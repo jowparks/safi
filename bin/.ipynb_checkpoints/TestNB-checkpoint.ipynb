{
 "cells": [
  {
   "cell_type": "code",
   "execution_count": 1,
   "metadata": {
    "collapsed": true
   },
   "outputs": [],
   "source": [
    "import gensim\n",
    "import os\n",
    "import collections\n",
    "import smart_open\n",
    "import random"
   ]
  },
  {
   "cell_type": "code",
   "execution_count": 2,
   "metadata": {
    "collapsed": true
   },
   "outputs": [],
   "source": [
    "import hashlib"
   ]
  },
  {
   "cell_type": "code",
   "execution_count": 3,
   "metadata": {
    "collapsed": true
   },
   "outputs": [],
   "source": [
    "##Testing gensim doc2vec\n",
    "\n",
    "def read_corpus(fname,tagsfile, tokens_only=False):\n",
    "    tf = open(tagsfile,'r')\n",
    "    with smart_open.smart_open(fname, encoding=\"utf-8\") as f:\n",
    "        for line in f:\n",
    "            if tokens_only:\n",
    "                yield gensim.utils.simple_preprocess(line)\n",
    "            else:\n",
    "                # For training data, add tags\n",
    "                yield gensim.models.doc2vec.TaggedDocument(gensim.utils.simple_preprocess(line), [tf.readline().strip()])"
   ]
  },
  {
   "cell_type": "code",
   "execution_count": 4,
   "metadata": {
    "collapsed": true,
    "scrolled": true
   },
   "outputs": [],
   "source": [
    "train_file_ids = \"/Users/jowparks/Data/ParsedAbstracts/PMIDAbstracts1988ids.txt\"\n",
    "train_file = \"/Users/jowparks/Data/ParsedAbstracts/PMIDAbstracts1988abs.txt\"\n",
    "train_corpus = list(read_corpus(train_file,train_file_ids))"
   ]
  },
  {
   "cell_type": "code",
   "execution_count": 5,
   "metadata": {},
   "outputs": [
    {
     "name": "stdout",
     "output_type": "stream",
     "text": [
      "220978\n"
     ]
    },
    {
     "data": {
      "text/plain": [
       "[TaggedDocument(words=['there', 'are', 'variety', 'of', 'diagnostic', 'procedures', 'in', 'use', 'to', 'confirm', 'the', 'diagnosis', 'reflux', 'reflux', 'esophagitis', 'ger', 'the', 'accuracy', 'of', 'the', 'described', 'methods', 'are', 'different', 'computerized', 'hours', 'long', 'term', 'ph', 'monitoring', 'has', 'established', 'to', 'be', 'very', 'reliable', 'procedure', 'in', 'the', 'diagnosis', 'of', 'ger', 'from', 'to', 'patients', 'underwent', 'hours', 'ph', 'monitoring', 'besides', 'ray', 'scintiscan', 'and', 'esophageal', 'manometry', 'the', 'combination', 'of', 'manometry', 'and', 'hours', 'ph', 'monitoring', 'has', 'given', 'the', 'biggest', 'insight', 'into', 'the', 'pathogenesis', 'of', 'ger', 'and', 'seems', 'to', 'be', 'undispensable', 'for', 'specific', 'therapeutic', 'procedures'], tags=['3354224']),\n",
       " TaggedDocument(words=['for', 'judgement', 'of', 'hypertension', 'hours', 'blood', 'pressure', 'readings', 'and', 'self', 'recorded', 'blood', 'pressures', 'are', 'new', 'more', 'sensitive', 'techniques', 'which', 'help', 'us', 'to', 'recognize', 'patients', 'with', 'elevated', 'cuff', 'blood', 'pressures', 'who', 'do', 'not', 'need', 'drug', 'treatment', 'furthermore', 'these', 'techniques', 'help', 'us', 'to', 'select', 'those', 'patients', 'who', 'are', 'in', 'need', 'of', 'treatment', 'as', 'well', 'as', 'to', 'adjust', 'the', 'treatment', 'more', 'adequately', 'to', 'the', 'patients', 'real', 'blood', 'pressure', 'these', 'new', 'tools', 'in', 'judgement', 'and', 'treatment', 'of', 'hypertension', 'help', 'us', 'to', 'treat', 'our', 'patients', 'with', 'more', 'safety', 'and', 'less', 'side', 'effects', 'therefore', 'we', 'should', 'force', 'this', 'new', 'way', 'of', 'hypertension', 'judgement'], tags=['3354223'])]"
      ]
     },
     "execution_count": 5,
     "metadata": {},
     "output_type": "execute_result"
    }
   ],
   "source": [
    "print(len(train_corpus))\n",
    "train_corpus[:2]"
   ]
  },
  {
   "cell_type": "code",
   "execution_count": 6,
   "metadata": {
    "collapsed": true
   },
   "outputs": [],
   "source": [
    "#build the model object\n",
    "model = gensim.models.doc2vec.Doc2Vec(size=300, min_count=5, iter=5)"
   ]
  },
  {
   "cell_type": "code",
   "execution_count": 7,
   "metadata": {},
   "outputs": [
    {
     "name": "stdout",
     "output_type": "stream",
     "text": [
      "Vocab Build Time:11.756139039993286\n"
     ]
    }
   ],
   "source": [
    "#build the vocab of from the training corpus\n",
    "import time\n",
    "pre = time.time()\n",
    "model.build_vocab(train_corpus)\n",
    "print(\"Vocab Build Time:\"+str(time.time()-pre))"
   ]
  },
  {
   "cell_type": "code",
   "execution_count": 8,
   "metadata": {},
   "outputs": [
    {
     "name": "stdout",
     "output_type": "stream",
     "text": [
      "Model Train Time:194.47269296646118\n"
     ]
    }
   ],
   "source": [
    "import time\n",
    "pre = time.time()\n",
    "model.train(train_corpus, total_examples=model.corpus_count, epochs=model.iter)\n",
    "print(\"Model Train Time:\"+str(time.time()-pre))"
   ]
  },
  {
   "cell_type": "code",
   "execution_count": 9,
   "metadata": {
    "collapsed": true
   },
   "outputs": [],
   "source": [
    "model.delete_temporary_training_data(keep_doctags_vectors=False,keep_inference=True)"
   ]
  },
  {
   "cell_type": "code",
   "execution_count": 10,
   "metadata": {
    "collapsed": true
   },
   "outputs": [],
   "source": [
    "model.save(\"/Users/jowparks/Data/ParsedAbstracts/test_model.model\")"
   ]
  },
  {
   "cell_type": "code",
   "execution_count": 6,
   "metadata": {},
   "outputs": [
    {
     "data": {
      "text/plain": [
       "{'doctag_lookup': 44195600,\n",
       " 'doctag_syn0': 265173600,\n",
       " 'syn0': 80709600,\n",
       " 'syn1neg': 80709600,\n",
       " 'total': 504417400,\n",
       " 'vocab': 33629000}"
      ]
     },
     "execution_count": 6,
     "metadata": {},
     "output_type": "execute_result"
    }
   ],
   "source": [
    "model.estimate_memory()"
   ]
  },
  {
   "cell_type": "code",
   "execution_count": 22,
   "metadata": {
    "scrolled": true
   },
   "outputs": [
    {
     "name": "stdout",
     "output_type": "stream",
     "text": [
      "0\n",
      "1\n",
      "2\n",
      "3\n",
      "4\n",
      "5\n",
      "6\n",
      "7\n",
      "8\n",
      "9\n"
     ]
    }
   ],
   "source": [
    "ranks = []\n",
    "second_ranks = []\n",
    "for doc_id in range(10):\n",
    "    inferred_vector = model.infer_vector(train_corpus[doc_id].words)\n",
    "    sims = model.docvecs.most_similar([inferred_vector], topn=len(model.docvecs))\n",
    "    #print(sims[0],sims[1])\n",
    "    print(doc_id)\n",
    "    rank = [docid for docid, sim in sims].index(train_corpus[doc_id].tags[0])\n",
    "    ranks.append(rank)\n",
    "    \n",
    "    second_ranks.append(sims[1])"
   ]
  },
  {
   "cell_type": "code",
   "execution_count": 24,
   "metadata": {
    "collapsed": true
   },
   "outputs": [],
   "source": [
    "del model"
   ]
  },
  {
   "cell_type": "code",
   "execution_count": 66,
   "metadata": {},
   "outputs": [
    {
     "data": {
      "text/plain": [
       "Counter({0: 9, 556: 1})"
      ]
     },
     "execution_count": 66,
     "metadata": {},
     "output_type": "execute_result"
    }
   ],
   "source": [
    "import collections\n",
    "collections.Counter(ranks)"
   ]
  },
  {
   "cell_type": "code",
   "execution_count": 3,
   "metadata": {
    "collapsed": true
   },
   "outputs": [],
   "source": [
    "#del model\n",
    "model = gensim.models.doc2vec.Doc2Vec.load(\"/Users/jowparks/Data/ParsedAbstracts/1998subsetdoc2vecmodel/test_model.model\")"
   ]
  },
  {
   "cell_type": "code",
   "execution_count": 30,
   "metadata": {},
   "outputs": [
    {
     "name": "stdout",
     "output_type": "stream",
     "text": [
      "ten patients with common bile duct stones not removable by endoscopic measures after sphincterotomy were treated by generated shock waves in patients stones up to mm in diameter were disintegrated two patients became free of stone fragments spontaneously within one day and in patients the stone fragments were extracted endoscopically no complications occurred extracorporal shock wave treatment represents promising alternative to surgery in cases where common bile duct stones cannot be extracted endoscopically\n",
      "SIMILAR/DISSIMILAR DOCS PER MODEL Doc2Vec(dm/m,d300,n5,w5,mc5,s0.001,t3):\n",
      "\n",
      "('3344415', 0.7737406492233276)\n",
      "ten patients with common bile duct stones not removable by endoscopic measures after sphincterotomy were treated by generated shock waves in patients stones up to mm in diameter were disintegrated two patients became free of stone fragments spontaneously within one day and in patients the stone fragments were extracted endoscopically no complications occurred extracorporal shock wave treatment represents promising alternative to surgery in cases where common bile duct stones cannot be extracted endoscopically\n",
      " \n",
      "('3421753', 0.5600236058235168)\n",
      "patients with gallstone disease were treated between january and december using an concept that included surgery endoscopic sphincterotomy and extracorporeal shock wave lithotripsy eswl twenty five per cent of the patients who were admitted for gallbladder stones were treated by eswl whereas underwent surgery mortality of elective treatment for gallbladder stones amounted to in surgery in eswl postoperative complication rate was low in surgery in eswl after eswl treatment of the patients were free of stones after follow up period of year recurrence rate in these patients amounted up to in seven of patients mean follow up period was months after complete disappearance of stones twenty seven per cent of all patients who were admitted for bile duct stones underwent surgery whereas in the other calculi were removed via endoscopy eswl treatment was used additionally if necessary fragments were left behind in three of patients after surgical treatment and in of patients after endoscopic and eswl treatment respectively in the latter group three patients required an additional operation there were no deaths in either of the groups the use of eswl for treatment of gallbladder stones needs to be evaluated in long term follow up studies thus far surgery remains the dominating method endoscopic procedures eventually combined with eswl represent the preferred treatment for patients with bile duct stones\n",
      " \n",
      "('3048958', 0.5327541828155518)\n",
      "piezoelectric lithotripsy was undertaken on patients with gallbladder stones none of them requiring anaesthesia analgetics or sedatives stone fragmentation was achieved in all patients during the first treatment in patients the maximum fragment size was less than of the initial stone diameter the mean maximum fragment size after the first treatment was mm mm after follow up of months in of the patients and of months in of patients no more stones could be seen by ultrasonography after an average period of weeks of patients were free of stones piezoelectric lithotripsy did not have any severe side effects besides mild pancreatitis in one patient\n",
      " \n",
      "('3419778', 0.5256839394569397)\n",
      "fistula formation following eyelid surgery is uncommon patient developed an eyelid fistula and tearing shortly after wies entropion procedure and was effectively treated by excising the involved portion of the eyelid\n",
      " \n",
      "('3074523', 0.5134351849555969)\n",
      "we have undertaken extracorporeal shock wave lithotripsy eswl using the second generation lithotripter sonolith shock waves are generated by an underwater spark gap discharge and stone localization is performed using an ultrasound scanner total of treatments were given to patients with upper urinary tract calculi twenty one patients were completely free of stones and seven patients had residual sandy particles on the nd day after eswl seven patients had residual fragments less mm in diameter and two patients had residual fragments exceeding mm in diameter six weeks after eswl two patients were lost to follow up there was strong correlation between the stone free rate and stone size almost all stone of more than mm in diameter required more than one session there were no severe complications during and after eswl\n",
      " \n"
     ]
    }
   ],
   "source": [
    "print(' '.join(train_corpus[doc_id].words))\n",
    "print(u'SIMILAR/DISSIMILAR DOCS PER MODEL %s:\\n' % model)\n",
    "for s in sims[:5]:\n",
    "    for d in train_corpus:\n",
    "        if d.tags[0] == s[0]:\n",
    "            print(s)\n",
    "            print(\" \".join(d.words))\n",
    "            print(\" \")"
   ]
  },
  {
   "cell_type": "code",
   "execution_count": 23,
   "metadata": {},
   "outputs": [
    {
     "name": "stdout",
     "output_type": "stream",
     "text": [
      "ten patients with common bile duct stones not removable by endoscopic measures after sphincterotomy were treated by generated shock waves in patients stones up to mm in diameter were disintegrated two patients became free of stone fragments spontaneously within one day and in patients the stone fragments were extracted endoscopically no complications occurred extracorporal shock wave treatment represents promising alternative to surgery in cases where common bile duct stones cannot be extracted endoscopically\n",
      "SIMILAR/DISSIMILAR DOCS PER MODEL Doc2Vec(dm/m,d300,n5,w5,mc5,s0.001,t3):\n",
      "\n",
      "('3344415', 0.7737406492233276)\n",
      "ten patients with common bile duct stones not removable by endoscopic measures after sphincterotomy were treated by generated shock waves in patients stones up to mm in diameter were disintegrated two patients became free of stone fragments spontaneously within one day and in patients the stone fragments were extracted endoscopically no complications occurred extracorporal shock wave treatment represents promising alternative to surgery in cases where common bile duct stones cannot be extracted endoscopically\n",
      " \n",
      "('3421753', 0.5600236058235168)\n",
      "patients with gallstone disease were treated between january and december using an concept that included surgery endoscopic sphincterotomy and extracorporeal shock wave lithotripsy eswl twenty five per cent of the patients who were admitted for gallbladder stones were treated by eswl whereas underwent surgery mortality of elective treatment for gallbladder stones amounted to in surgery in eswl postoperative complication rate was low in surgery in eswl after eswl treatment of the patients were free of stones after follow up period of year recurrence rate in these patients amounted up to in seven of patients mean follow up period was months after complete disappearance of stones twenty seven per cent of all patients who were admitted for bile duct stones underwent surgery whereas in the other calculi were removed via endoscopy eswl treatment was used additionally if necessary fragments were left behind in three of patients after surgical treatment and in of patients after endoscopic and eswl treatment respectively in the latter group three patients required an additional operation there were no deaths in either of the groups the use of eswl for treatment of gallbladder stones needs to be evaluated in long term follow up studies thus far surgery remains the dominating method endoscopic procedures eventually combined with eswl represent the preferred treatment for patients with bile duct stones\n",
      " \n",
      "('3048958', 0.5327541828155518)\n",
      "piezoelectric lithotripsy was undertaken on patients with gallbladder stones none of them requiring anaesthesia analgetics or sedatives stone fragmentation was achieved in all patients during the first treatment in patients the maximum fragment size was less than of the initial stone diameter the mean maximum fragment size after the first treatment was mm mm after follow up of months in of the patients and of months in of patients no more stones could be seen by ultrasonography after an average period of weeks of patients were free of stones piezoelectric lithotripsy did not have any severe side effects besides mild pancreatitis in one patient\n",
      " \n",
      "('3419778', 0.5256839394569397)\n",
      "fistula formation following eyelid surgery is uncommon patient developed an eyelid fistula and tearing shortly after wies entropion procedure and was effectively treated by excising the involved portion of the eyelid\n",
      " \n",
      "('3074523', 0.5134351849555969)\n",
      "we have undertaken extracorporeal shock wave lithotripsy eswl using the second generation lithotripter sonolith shock waves are generated by an underwater spark gap discharge and stone localization is performed using an ultrasound scanner total of treatments were given to patients with upper urinary tract calculi twenty one patients were completely free of stones and seven patients had residual sandy particles on the nd day after eswl seven patients had residual fragments less mm in diameter and two patients had residual fragments exceeding mm in diameter six weeks after eswl two patients were lost to follow up there was strong correlation between the stone free rate and stone size almost all stone of more than mm in diameter required more than one session there were no severe complications during and after eswl\n",
      " \n"
     ]
    }
   ],
   "source": [
    "print(' '.join(train_corpus[doc_id].words))\n",
    "print(u'SIMILAR/DISSIMILAR DOCS PER MODEL %s:\\n' % model)\n",
    "for s in sims[:5]:\n",
    "    for d in train_corpus:\n",
    "        if d.tags[0] == s[0]:\n",
    "            print(s)\n",
    "            print(\" \".join(d.words))\n",
    "            print(\" \")"
   ]
  },
  {
   "cell_type": "code",
   "execution_count": null,
   "metadata": {
    "collapsed": true
   },
   "outputs": [],
   "source": []
  }
 ],
 "metadata": {
  "kernelspec": {
   "display_name": "Python 3",
   "language": "python",
   "name": "python3"
  },
  "language_info": {
   "codemirror_mode": {
    "name": "ipython",
    "version": 3
   },
   "file_extension": ".py",
   "mimetype": "text/x-python",
   "name": "python",
   "nbconvert_exporter": "python",
   "pygments_lexer": "ipython3",
   "version": "3.6.1"
  }
 },
 "nbformat": 4,
 "nbformat_minor": 2
}
