{
 "cells": [
  {
   "cell_type": "code",
   "execution_count": 4,
   "metadata": {
    "collapsed": false
   },
   "outputs": [
    {
     "name": "stderr",
     "output_type": "stream",
     "text": [
      " * Running on http://127.0.0.1:33507/ (Press CTRL+C to quit)\n",
      "127.0.0.1 - - [16/May/2017 16:03:02] \"GET / HTTP/1.1\" 200 -\n",
      "127.0.0.1 - - [16/May/2017 16:03:04] \"POST / HTTP/1.1\" 400 -\n"
     ]
    }
   ],
   "source": [
    "###Main page: PubmedApp\n",
    "\n",
    "from flask import Flask, render_template, request, redirect\n",
    "from bokeh.embed import components\n",
    "#import PubDatePlotting as pdp\n",
    "#import StateGraph as sg\n",
    "\n",
    "# output_notebook()\n",
    "\n",
    "app = Flask(__name__)\n",
    "\n",
    "app.vars = {}\n",
    "\n",
    "\n",
    "@app.route('/', methods=['GET', 'POST'])\n",
    "def index():\n",
    "    # nquestions=app_lulu.nquestions\n",
    "    if request.method == 'GET':\n",
    "        return render_template('pubsearch.html')\n",
    "    else:\n",
    "        app.vars['cancertype'] = request.form['cancertype']\n",
    "\n",
    "        p1 = pdp.pubByDate(app.vars['cancertype'], False)\n",
    "        p2 = pdp.pubByDate(app.vars['cancertype'], True)\n",
    "        p3, p4 = stateGraph(app.vars['cancertype'])\n",
    "        plots = {'p1': p1, 'p2': p2, 'p3': p3, 'p4': p4}\n",
    "        script, div = components(plots)\n",
    "\n",
    "        return render_template('view_cancer.html', script=script, div=div, ctype=app.vars['cancertype'])\n",
    "\n",
    "\n",
    "if __name__ == \"__main__\":\n",
    "    app.run(port=33507)"
   ]
  },
  {
   "cell_type": "code",
   "execution_count": null,
   "metadata": {
    "collapsed": true
   },
   "outputs": [],
   "source": []
  }
 ],
 "metadata": {
  "kernelspec": {
   "display_name": "Python 3",
   "language": "python",
   "name": "python3"
  },
  "language_info": {
   "codemirror_mode": {
    "name": "ipython",
    "version": 3
   },
   "file_extension": ".py",
   "mimetype": "text/x-python",
   "name": "python",
   "nbconvert_exporter": "python",
   "pygments_lexer": "ipython3",
   "version": "3.6.1"
  }
 },
 "nbformat": 4,
 "nbformat_minor": 2
}
